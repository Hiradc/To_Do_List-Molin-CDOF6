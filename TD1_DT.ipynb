{
 "cells": [
  {
   "cell_type": "code",
   "execution_count": 1,
   "metadata": {},
   "outputs": [],
   "source": [
    "import json\n",
    "\n",
    "tasks = []"
   ]
  },
  {
   "cell_type": "code",
   "execution_count": 2,
   "metadata": {},
   "outputs": [],
   "source": [
    "def add_task(description):\n",
    "    tasks.append({\"description\": description, \"completed\": False})\n",
    "    print(f\"Task added: {description}\")"
   ]
  },
  {
   "cell_type": "code",
   "execution_count": 3,
   "metadata": {},
   "outputs": [],
   "source": [
    "def view_tasks():\n",
    "    if not tasks:\n",
    "        print(\"No tasks found.\")\n",
    "        return\n",
    "    for i, task in enumerate(tasks):\n",
    "        status = \"Completed\" if task[\"completed\"] else \"Pending\"\n",
    "        print(f\"{i + 1}. {task['description']} - {status}\")"
   ]
  },
  {
   "cell_type": "code",
   "execution_count": 4,
   "metadata": {},
   "outputs": [],
   "source": [
    "def complete_task(task_index):\n",
    "    try:\n",
    "        tasks[task_index - 1][\"completed\"] = True\n",
    "        print(\"Task marked as completed.\")\n",
    "    except IndexError:\n",
    "        print(\"Invalid task index.\")"
   ]
  },
  {
   "cell_type": "code",
   "execution_count": 5,
   "metadata": {},
   "outputs": [],
   "source": [
    "def delete_task(task_index):\n",
    "    try:\n",
    "        removed = tasks.pop(task_index - 1)\n",
    "        print(f\"Task deleted: {removed['description']}\")\n",
    "    except IndexError:\n",
    "        print(\"Invalid task index.\")"
   ]
  },
  {
   "cell_type": "code",
   "execution_count": 6,
   "metadata": {},
   "outputs": [
    {
     "name": "stdout",
     "output_type": "stream",
     "text": [
      "\n",
      "1. Add Task\n",
      "2. View Tasks\n",
      "3. Complete Task\n",
      "4. Delete Task\n",
      "5. Exit\n",
      "Tasks saved. Goodbye!\n"
     ]
    }
   ],
   "source": [
    "# Menu and CLI interaction\n",
    "while True:\n",
    "    print(\"\\n1. Add Task\\n2. View Tasks\\n3. Complete Task\\n4. Delete Task\\n5. Exit\")\n",
    "    choice = input(\"Choose an option: \")\n",
    "    if choice == \"1\":\n",
    "        task_desc = input(\"Enter task description: \")\n",
    "        add_task(task_desc)\n",
    "    elif choice == \"2\":\n",
    "        view_tasks()\n",
    "    elif choice == \"3\":\n",
    "        idx = int(input(\"Enter task number to complete: \"))\n",
    "        complete_task(idx)\n",
    "    elif choice == \"4\":\n",
    "        idx = int(input(\"Enter task number to delete: \"))\n",
    "        delete_task(idx)\n",
    "    elif choice == \"5\":\n",
    "        with open(\"tasks.json\", \"w\") as f:\n",
    "            json.dump(tasks, f)\n",
    "        print(\"Tasks saved. Goodbye!\")\n",
    "        break\n",
    "    else:\n",
    "        print(\"Invalid choice.\")"
   ]
  }
 ],
 "metadata": {
  "kernelspec": {
   "display_name": "base",
   "language": "python",
   "name": "python3"
  },
  "language_info": {
   "codemirror_mode": {
    "name": "ipython",
    "version": 3
   },
   "file_extension": ".py",
   "mimetype": "text/x-python",
   "name": "python",
   "nbconvert_exporter": "python",
   "pygments_lexer": "ipython3",
   "version": "3.11.7"
  }
 },
 "nbformat": 4,
 "nbformat_minor": 2
}
